{
 "cells": [
  {
   "cell_type": "markdown",
   "metadata": {
    "deletable": false,
    "editable": false,
    "nbgrader": {
     "cell_type": "markdown",
     "checksum": "829deb8e329e887a4f93cafb73fa8258",
     "grade": false,
     "grade_id": "cell-32a74bbca42bd5b8",
     "locked": true,
     "schema_version": 3,
     "solution": false
    }
   },
   "source": [
    "# Assignment 1\n",
    "\n",
    "We explored linear models the last lecture. We will strengthen this understanding by implementing linear and logistic regression models as part of the assignment."
   ]
  },
  {
   "cell_type": "markdown",
   "metadata": {},
   "source": [
    "# Section I - Linear Regression\n",
    "\n",
    "We will implement a linear regression model to fit a curve to some data. Since the data is nonlinear, we will implement polynomial regression and use ridge regression to implement the best possible fit."
   ]
  },
  {
   "cell_type": "markdown",
   "metadata": {
    "deletable": false,
    "editable": false,
    "nbgrader": {
     "cell_type": "markdown",
     "checksum": "6bda8b4c9dd4bc8887dc94ce790446b2",
     "grade": false,
     "grade_id": "cell-18e0f04906f35ade",
     "locked": true,
     "schema_version": 3,
     "solution": false
    }
   },
   "source": [
    "## 1. Load Data and Visualize\n",
    "\n",
    "Let us load a dataset of points $(x,y)$. \n",
    "As a first step, let's import the required libraries followed by the dataset."
   ]
  },
  {
   "cell_type": "code",
   "execution_count": 1,
   "metadata": {
    "deletable": false,
    "editable": false,
    "nbgrader": {
     "cell_type": "code",
     "checksum": "082d82a660e1f1cb1b3d8cedfc4357a2",
     "grade": false,
     "grade_id": "cell-c023a1f94f8bc218",
     "locked": true,
     "schema_version": 3,
     "solution": false,
     "task": false
    },
    "scrolled": true
   },
   "outputs": [
    {
     "name": "stdout",
     "output_type": "stream",
     "text": [
      "train_X.shape is  (300, 1)\n",
      "train_Y.shape is  (300, 1)\n",
      "test_X.shape is  (200, 1)\n",
      "test_Y.shape is  (200, 1)\n"
     ]
    }
   ],
   "source": [
    "import numpy as np\n",
    "from datasets import ridge_reg_data\n",
    "\n",
    "# Libraries for evaluating the solution\n",
    "import pytest\n",
    "import numpy.testing as npt\n",
    "import random\n",
    "random.seed(1)\n",
    "np.random.seed(1)\n",
    "\n",
    "train_X, train_Y, test_X, test_Y = ridge_reg_data() # Pre-defined function for loading the dataset\n",
    "train_Y = train_Y.reshape(-1,1) # reshaping from (m,) -> (m,1)\n",
    "test_Y = test_Y.reshape(-1,1)\n",
    "print('train_X.shape is ', train_X.shape)\n",
    "print('train_Y.shape is ', train_Y.shape)\n",
    "print('test_X.shape is ', test_X.shape)\n",
    "print('test_Y.shape is ', test_Y.shape)"
   ]
  },
  {
   "cell_type": "markdown",
   "metadata": {
    "deletable": false,
    "editable": false,
    "nbgrader": {
     "cell_type": "markdown",
     "checksum": "0edfb43772efad0bc41c79e885ce6feb",
     "grade": false,
     "grade_id": "cell-2720ad6352d5f32a",
     "locked": true,
     "schema_version": 3,
     "solution": false,
     "task": false
    }
   },
   "source": [
    "### Visualize Data\n",
    "\n",
    "The dataset is split into train and test sets. The train set consists of 300 samples and the test set consists of 200 samples. We will use scatter plot to visualize the relationship between the '$x$' and '$y$'. Lets visualize the data using the scatter plot from [matplotlib](https://matplotlib.org/)."
   ]
  },
  {
   "cell_type": "code",
   "execution_count": 2,
   "metadata": {
    "deletable": false,
    "editable": false,
    "nbgrader": {
     "cell_type": "code",
     "checksum": "4b24d27ddb9db6d2ae3d7bdd73d63285",
     "grade": false,
     "grade_id": "cell-156aa27fccc1a7cc",
     "locked": true,
     "schema_version": 3,
     "solution": false,
     "task": false
    }
   },
   "outputs": [
    {
     "data": {
      "image/png": "[encoded data removed]",
      "text/plain": [
       "<Figure size 432x288 with 1 Axes>"
      ]
     },
     "metadata": {
      "needs_background": "light"
     },
     "output_type": "display_data"
    }
   ],
   "source": [
    "import matplotlib.pyplot as plt\n",
    "%matplotlib inline\n",
    "plt.scatter(train_X,train_Y,marker='o',s=4)\n",
    "plt.ylim(-2, 3)\n",
    "plt.xlabel('x')\n",
    "plt.ylabel('y');"
   ]
  },
  {
   "cell_type": "markdown",
   "metadata": {
    "deletable": false,
    "editable": false,
    "nbgrader": {
     "cell_type": "markdown",
     "checksum": "c79901bcbe6c2ec7da75ec4c4f1a87e9",
     "grade": false,
     "grade_id": "cell-82c462d9db119ed5",
     "locked": true,
     "schema_version": 3,
     "solution": false,
     "task": false
    }
   },
   "source": [
    "### Linear Regression - Polynomial Transformation\n",
    "\n",
    "Using the train data we hope to learn a relationship mapping $x$ to $y$. We can evaluate this mapping using the test data. Linear regression will try to fit a straight line (linear relation) mapping $x$ to $y$. However, we observe the $x$ and $y$ do not have a linear relationship. A straight line will not be a good fit. We need a non-linear mapping (curve) between $x$ and $y$. \n",
    "\n",
    "We discussed in the lecture that nonlinear regression can be achieved by transforming the scalar $x$ to a high dimension sample and performing linear regression with the transformed data. We can transform $x$ into a $d$ dimensional vector ($d \\geq 2$) in order to perform nonlinear regression. For example, $d = 5$ transforms $x$ into a $(d+1)$ dimension vector $[1,x,x^2,x^3,x^4,x^5]^\\top$, where $x^k$ is $x$ raised to $k$. In vectorized notation, the dataset $X$ is transformed to $\\Phi(X)$ of  dimension $m \\times (d+1)$, where $m$ is the number of samples. \n",
    "\n",
    "Every scalar $x$ is converted into a $(d+1)$ dimension vector, $[1,x_1,x_2,x_3,\\ldots,x_d]^\\top$. We can now perform linear regression in $(d+1)$ dimensions.\n",
    "\\begin{equation*}\n",
    "y = \\Phi(x)\\boldsymbol{\\theta} = \\theta_0 + x_1\\theta_1 + ... + x_{d-1}\\theta_{d-1} + x_d\\theta_d\\\\\n",
    "\\end{equation*}\n",
    "In the above equation, $y$ is the target variable, $\\boldsymbol{\\theta} = [\\theta_{0},.., \\theta_{d}]^\\top$ are the parameters/weights of the model, $\\Phi(x) = [1,x_{1},.., x_{d}]$ is the transformed data point in the row vector format, where $x_k$ is the $k^{th}$ component. \n",
    "    \n",
    "In the vectorized notation, the linear regression for $m$ samples is written as  $\\hat{Y} = \\Phi(X)\\boldsymbol{\\theta}$, where $\\Phi(X)$ has the data points as row vectors and is of dimensions $m \\times (d+1)$,\n",
    "\n",
    "\\begin{align}\n",
    "\\begin{bmatrix} \\hat{y}^{(1)} \\\\ \n",
    "\\hat{y}^{(2)}\\\\\n",
    "\\vdots\\\\ \n",
    "\\hat{y}^{(m)}\n",
    "\\end{bmatrix} = \n",
    "\\begin{bmatrix} 1 & x^{(1)}_1 & x^{(1)}_2  & \\ldots & x^{(1)}_d\\\\ \n",
    "1 & x^{(2)}_1 & x^{(2)}_2  & \\ldots & x^{(2)}_d\\\\  \n",
    "\\vdots & \\vdots & \\vdots & \\vdots & \\vdots\\\\ \n",
    "1 & x^{(m)}_1 & x^{(m)}_2  & \\ldots & x^{(m)}_d\\\\ \n",
    "\\end{bmatrix}\n",
    "\\begin{bmatrix} \\theta_0 \\\\ \n",
    "\\theta_1\\\\ \n",
    "\\vdots \\\\ \n",
    "\\theta_d\\\\ \n",
    "\\end{bmatrix}\n",
    "\\end{align}\n",
    "\n",
    "$X$ - is the Design matrix of dimension $m \\times (d+1) $, where $m$ is the number of samples and $d$ is the degree of the polynomial that we are trying to fit. The first column of 1's in the design matrix will account for the bias , resulting in $d+1$ dimensions <br>\n",
    "\n",
    "$Y$ - Vector of the prediction labels of dimension $m \\times 1 $.\n",
    "Lets implement a function to achieve this transformation."
   ]
  },
  {
   "cell_type": "code",
   "execution_count": 3,
   "metadata": {
    "deletable": false,
    "editable": false,
    "nbgrader": {
     "cell_type": "code",
     "checksum": "4de9bcb62f04fc146678fe0ccba4a68a",
     "grade": false,
     "grade_id": "cell-poly_func",
     "locked": true,
     "schema_version": 3,
     "solution": false,
     "task": false
    }
   },
   "outputs": [],
   "source": [
    "def poly_transform(X,d):\n",
    "    '''\n",
    "    Function to transform scalar values into (d+1)-dimension vectors. \n",
    "    Each scalar value x is transformed a vector [1,x,x^2,x^3, ... x^d]. \n",
    "    \n",
    "    Inputs:\n",
    "        X: vector of m scalar inputs od shape (m, 1) where each row is a scalar input x\n",
    "        d: number of dimensions\n",
    "        \n",
    "    Outputs:\n",
    "        Phi: Transformed matrix of shape (m, (d+1)) \n",
    "    '''\n",
    "    Phi = np.ones((X.shape[0],1))\n",
    "    for i in range(1,d+1):\n",
    "        col = np.power(X,i)\n",
    "        Phi = np.hstack([Phi,col])\n",
    "    return Phi"
   ]
  },
  {
   "cell_type": "code",
   "execution_count": 4,
   "metadata": {},
   "outputs": [
    {
     "name": "stdout",
     "output_type": "stream",
     "text": [
      "[[1 2 3]\n",
      " [4 3 2]]\n",
      "[[1. 1. 2. 3.]\n",
      " [1. 4. 3. 2.]]\n"
     ]
    }
   ],
   "source": [
    "# print(train_X[:5,:])\n",
    "# print(train_Y[:5])\n",
    "# Phi = np.ones((train_X.shape[0],1))\n",
    "\n",
    "# for i in range(1,(train_X.shape[1]+4)):\n",
    "#     col = np.power(train_X, i)\n",
    "#     Phi = np.hstack([Phi,col])\n",
    "# print(Phi)\n",
    "\n",
    "# X = np.array([[[1],[2],[3]],[[4],[3],[2]]])\n",
    "X = np.array([[1,2,3],[4,3,2]])\n",
    "print(X)\n",
    "# print(X.shape)\n",
    "\n",
    "Phi = np.ones((X.shape[0],1))\n",
    "\n",
    "Phi = np.hstack([Phi,X])\n",
    "# print(col)\n",
    "print(Phi)"
   ]
  },
  {
   "cell_type": "markdown",
   "metadata": {
    "deletable": false,
    "editable": false,
    "nbgrader": {
     "cell_type": "markdown",
     "checksum": "1778803059522c7eb8f2af002ed64124",
     "grade": false,
     "grade_id": "cell-973aaed232f7e02c",
     "locked": true,
     "schema_version": 3,
     "solution": false
    },
    "slideshow": {
     "slide_type": "fragment"
    }
   },
   "source": [
    "### Linear Regression - Objective Function (5 Points)\n",
    "\n",
    "Let us define the objective function that will be optimized by the linear regression model.\n",
    "    \\begin{equation*}\n",
    "    L\\big(\\Phi(X),Y,\\theta\\big) = \\big(Y-\\Phi(X)\\boldsymbol{\\theta}\\big)^\\top \\big(Y-\\Phi(X)\\boldsymbol{\\theta}\\big)\n",
    "    \\end{equation*}\n",
    "\n",
    "Here, $\\Phi(X)$ is the design matrix of dimensions (m \\times (d+1)) and $Y$ is the $m$ dimension vector of labels. \n",
    "$\\theta$ is the $(d+1)$ dimension vector of weight parameters.\n",
    " \n",
    "Hint: You may want to use [numpy.dot](https://docs.scipy.org/doc/numpy/reference/generated/numpy.dot.html) "
   ]
  },
  {
   "cell_type": "code",
   "execution_count": 5,
   "metadata": {
    "deletable": false,
    "nbgrader": {
     "cell_type": "code",
     "checksum": "505f5ada0a45ae376bca76c2df323eeb",
     "grade": false,
     "grade_id": "test_case1_lin_reg_obj_soln",
     "locked": false,
     "schema_version": 3,
     "solution": true
    }
   },
   "outputs": [],
   "source": [
    "def lin_reg_obj(Y,Phi,theta):\n",
    "    '''\n",
    "    Objective function to estimate loss for the linear regression model.\n",
    "    Inputs:\n",
    "        Phi: Design matrix of dimensions (m, (d+1))\n",
    "        Y: ground truth labels of dimensions (m, 1)\n",
    "        theta: Parameters of linear regression of dimensions ((d+1),1)\n",
    "        \n",
    "    outputs:\n",
    "        loss: scalar loss \n",
    "    '''\n",
    "    # your code here\n",
    "    loss = np.dot((Y-np.dot(Phi,theta)).T, (Y-np.dot(Phi,theta)))\n",
    "    return loss"
   ]
  },
  {
   "cell_type": "code",
   "execution_count": 6,
   "metadata": {
    "deletable": false,
    "editable": false,
    "nbgrader": {
     "cell_type": "code",
     "checksum": "939fdc75ed628b4994c0c16ac144b973",
     "grade": true,
     "grade_id": "test_case1_lin_reg_obj",
     "locked": true,
     "points": 5,
     "schema_version": 3,
     "solution": false,
     "task": false
    }
   },
   "outputs": [],
   "source": [
    "# Contains hidden tests\n",
    "\n",
    "random.seed(1)\n",
    "np.random.seed(1)\n",
    "m1 = 10;\n",
    "d1 = 5;\n",
    "X_t = np.random.randn(m1,1)\n",
    "Y_t = np.random.randn(m1,1)\n",
    "theta_t = np.random.randn((d1+1),1)\n",
    "PHI_t = poly_transform(X_t,d1)\n",
    "loss_est = lin_reg_obj(Y_t,PHI_t,theta_t)"
   ]
  },
  {
   "cell_type": "markdown",
   "metadata": {
    "deletable": false,
    "editable": false,
    "nbgrader": {
     "cell_type": "markdown",
     "checksum": "7ebe9df73c77ede248f3825b92bb20a9",
     "grade": false,
     "grade_id": "cell-8198b2d036843726",
     "locked": true,
     "schema_version": 3,
     "solution": false,
     "task": false
    }
   },
   "source": [
    "### Linear Regression - Closed Form Solution (10 Points)\n",
    "\n",
    "Let us define a closed form solution to the objective function. Feel free to revisit the lecture to review the topic.\n",
    "Closed form solution is given by,\n",
    "\n",
    "\\begin{equation*}\n",
    "\\theta = \\big(\\Phi(X)^\\top\\Phi(X)\\big)^{-1}\\Phi(X)^\\top Y\n",
    "\\end{equation*}\n",
    "\n",
    "Here $\\Phi(X)$ is the $(m \\times (d+1))$ dimension design matrix obtained using *poly_transform* function defined earlier and $Y$ are the ground truth labels of dimensions $(m \\times 1)$. \n",
    "\n",
    "Hint: You may want to use [numpy.linalg.inv](https://docs.scipy.org/doc/numpy/reference/generated/numpy.linalg.inv.html) and [numpy.dot](https://docs.scipy.org/doc/numpy/reference/generated/numpy.dot.html)."
   ]
  },
  {
   "cell_type": "code",
   "execution_count": 7,
   "metadata": {
    "deletable": false,
    "nbgrader": {
     "cell_type": "code",
     "checksum": "4e7e69fbec55968da428b17a20fd9329",
     "grade": false,
     "grade_id": "test_case2_closed_form_soln",
     "locked": false,
     "schema_version": 3,
     "solution": true,
     "task": false
    }
   },
   "outputs": [],
   "source": [
    "#Closed form solution\n",
    "def lin_reg_fit(Phi_X,Y):\n",
    "    '''\n",
    "    A function to estimate the linear regression model parameters using the closed form solution.\n",
    "    Inputs:\n",
    "        Phi_X: Design matrix of dimensions (m, (d+1))\n",
    "        Y: ground truth labels of dimensions (m, 1)\n",
    "         \n",
    "    Outputs:\n",
    "        theta: Parameters of linear regression of dimensions ((d+1),1)\n",
    "    '''\n",
    "    # your code here\n",
    "    inverse =  np.linalg.inv(np.dot(Phi_X.T, Phi_X))\n",
    "    theta = np.dot(np.dot(inverse, Phi_X.T), Y)\n",
    "    \n",
    "    return theta"
   ]
  },
  {
   "cell_type": "code",
   "execution_count": 8,
   "metadata": {
    "deletable": false,
    "editable": false,
    "nbgrader": {
     "cell_type": "code",
     "checksum": "6ee76160fe3ac2ac70d3b352586ed9fe",
     "grade": true,
     "grade_id": "test_case2_closed_form",
     "locked": true,
     "points": 10,
     "schema_version": 3,
     "solution": false,
     "task": false
    }
   },
   "outputs": [],
   "source": [
    "# Contains hidden tests\n",
    "\n",
    "random.seed(1)\n",
    "np.random.seed(1)\n",
    "m1 = 10;\n",
    "d1 = 5;\n",
    "X_t = np.random.randn(m1,1)\n",
    "Y_t = np.random.randn(m1,1)\n",
    "PHI_t = poly_transform(X_t,d1)\n",
    "theta_est = lin_reg_fit(PHI_t,Y_t)"
   ]
  },
  {
   "cell_type": "markdown",
   "metadata": {
    "deletable": false,
    "editable": false,
    "nbgrader": {
     "cell_type": "markdown",
     "checksum": "4ff7e3a3e6108ad6242020bf5c64b5bb",
     "grade": false,
     "grade_id": "cell-562b211608e0da1c",
     "locked": true,
     "schema_version": 3,
     "solution": false
    }
   },
   "source": [
    "### Metrics for Evaluation (10 points)\n",
    "\n",
    "We will evaluate the goodness of our linear regression model using root mean square error. This compares the difference between the estimate Y-labels and the groundth truth Y-labels. The smaller the RMSE value, better is the fit. \n",
    "1. RMSE (Root Mean Squared Error)\n",
    "\\begin{equation*}\n",
    "\\sqrt{\\frac{1}{m}\\sum_{i=1}^{m}(y\\_pred^{(i)} - y^{(i)})^{2} }\n",
    "\\end{equation*}\n",
    "\n",
    "Hint: You may want to use:  \n",
    "[numpy.sqrt](https://numpy.org/doc/stable/reference/generated/numpy.sqrt.html),\n",
    "[numpy.sum](https://docs.scipy.org/doc/numpy/reference/generated/numpy.sum.html) or [numpy.dot](https://docs.scipy.org/doc/numpy/reference/generated/numpy.dot.html)."
   ]
  },
  {
   "cell_type": "code",
   "execution_count": 9,
   "metadata": {
    "deletable": false,
    "nbgrader": {
     "cell_type": "code",
     "checksum": "af2a7ec7a3bb2d57790227708089cad2",
     "grade": false,
     "grade_id": "test_case3_rmse_soln",
     "locked": false,
     "schema_version": 3,
     "solution": true
    }
   },
   "outputs": [],
   "source": [
    "# from sklearn import metrics\n",
    "def get_rmse(Y_pred,Y):\n",
    "    '''\n",
    "    function to evaluate the goodness of the linear regression model.\n",
    "    \n",
    "    Inputs:\n",
    "        Y_pred: estimated labels of dimensions (m, 1)\n",
    "        Y: ground truth labels of dimensions (m, 1)\n",
    "        \n",
    "    Outputs:\n",
    "        rmse: root means square error\n",
    "    '''\n",
    "    # your code here\n",
    "    rmse = np.sqrt(np.mean(np.square(Y_pred-Y)))\n",
    "#     rmse = np.sqrt(metrics.mean_squared_error(Y_pred,Y))\n",
    "    return rmse"
   ]
  },
  {
   "cell_type": "code",
   "execution_count": 10,
   "metadata": {
    "deletable": false,
    "editable": false,
    "nbgrader": {
     "cell_type": "code",
     "checksum": "ffadb55d1706eeb293e17835bc8e830d",
     "grade": true,
     "grade_id": "test_case3_rmse",
     "locked": true,
     "points": 10,
     "schema_version": 3,
     "solution": false
    }
   },
   "outputs": [],
   "source": [
    "# Contains hidden tests\n",
    "\n",
    "random.seed(1)\n",
    "np.random.seed(1)\n",
    "m1 = 50\n",
    "Y_Pred_t = np.random.randn(m1,1)\n",
    "Y_t = np.random.randn(m1,1)\n",
    "rmse_est = get_rmse(Y_Pred_t,Y_t)"
   ]
  },
  {
   "cell_type": "markdown",
   "metadata": {
    "deletable": false,
    "editable": false,
    "nbgrader": {
     "cell_type": "markdown",
     "checksum": "dfbb7b35c2b02d0560e23342f679007f",
     "grade": false,
     "grade_id": "cell-a510a78a331859fa",
     "locked": true,
     "schema_version": 3,
     "solution": false,
     "task": false
    }
   },
   "source": [
    "Let's visualize the nonlinear regression fit and the RMSE evaluation error on the test data"
   ]
  },
  {
   "cell_type": "code",
   "execution_count": 11,
   "metadata": {
    "deletable": false,
    "editable": false,
    "nbgrader": {
     "cell_type": "code",
     "checksum": "11a08c005070725d28b9cc0b8c17ea20",
     "grade": false,
     "grade_id": "cell-bde15c011e06f29f",
     "locked": true,
     "schema_version": 3,
     "solution": false,
     "task": false
    }
   },
   "outputs": [
    {
     "name": "stdout",
     "output_type": "stream",
     "text": [
      "Train RMSE =  0.513634052031467\n",
      "Test RMSE =  0.5037663916729039\n"
     ]
    },
    {
     "data": {
      "image/png": "[encoded data removed]",
      "text/plain": [
       "<Figure size 432x288 with 1 Axes>"
      ]
     },
     "metadata": {
      "needs_background": "light"
     },
     "output_type": "display_data"
    }
   ],
   "source": [
    "d = 20\n",
    "Phi_X_tr = poly_transform(train_X,d)\n",
    "theta = lin_reg_fit(Phi_X_tr,train_Y)\n",
    "#Estimate the prediction on the train data\n",
    "Y_Pred_tr = np.dot(Phi_X_tr,theta)\n",
    "rmse = get_rmse(Y_Pred_tr,train_Y)\n",
    "print('Train RMSE = ', rmse)\n",
    "\n",
    "#Perform the same transform on the test data\n",
    "Phi_X_ts = poly_transform(test_X,d)\n",
    "#Estimate the prediction on the test data\n",
    "Y_Pred_ts = np.dot(Phi_X_ts,theta)\n",
    "#Evaluate the goodness of the fit\n",
    "rmse = get_rmse(Y_Pred_ts,test_Y)\n",
    "print('Test RMSE = ', rmse)\n",
    "\n",
    "import matplotlib.pyplot as plt\n",
    "%matplotlib inline\n",
    "plt.scatter(test_X,test_Y,marker='o',s=4)\n",
    "# Sampling more points to plot a smooth curve\n",
    "px = np.linspace(-2,2,100).reshape(-1,1)\n",
    "PX = poly_transform(px,d)\n",
    "py = np.dot(PX,theta)\n",
    "plt.xlabel('x')\n",
    "plt.ylabel('y')\n",
    "plt.ylim(-2, 3)\n",
    "plt.plot(px,py,color='red');"
   ]
  },
  {
   "cell_type": "markdown",
   "metadata": {
    "deletable": false,
    "editable": false,
    "nbgrader": {
     "cell_type": "markdown",
     "checksum": "beb1c846e0889a6cc1be2874640571ec",
     "grade": false,
     "grade_id": "cell-f84306ac0b0e9126",
     "locked": true,
     "schema_version": 3,
     "solution": false,
     "task": false
    }
   },
   "source": [
    "## 2. Ridge Regression \n",
    "\n",
    "The degree of the polynomial regression is $d=10$. Even though the curve appears to be smooth, it may be fitting to the noise. We will use Ridge Regression to get a smoother fit and avoid-overfitting. Recall the ridge regression objective form:\n",
    "\n",
    "\\begin{equation*}\n",
    "    L\\big(\\Phi(X),Y,\\theta, \\lambda\\big) = \\big(Y-\\Phi(X)\\boldsymbol{\\theta}\\big)^\\top \\big(Y-\\Phi(X)\\boldsymbol{\\theta}\\big) + \\lambda^2\\boldsymbol{\\theta}^\\top\\boldsymbol{\\theta}\n",
    "\\end{equation*}\n",
    "where, $\\lambda\\geq 0$ is the regularization parameter. Larger the value of $\\lambda$, the more smooth the curve. The closed form solution to the objective is give by: \n",
    "\n",
    "\\begin{equation*}\n",
    "\\theta = \\big(\\Phi(X)^\\top\\Phi(X) + \\lambda^2I_d \\big)^{-1}\\Phi(X)^\\top Y\n",
    "\\end{equation*}\n",
    "\n",
    "Here, $I_d$ is the identity matrix of dimensions $((d+1) \\times (d+1))$, $\\Phi(X)$ is the $(m \\times (d+1))$ dimension design matrix obtained using *poly_transform* function defined earlier and $Y$ are the ground truth labels of dimensions $(m \\times 1)$. "
   ]
  },
  {
   "cell_type": "markdown",
   "metadata": {},
   "source": [
    "### Ridge Regression Closed Form Solution (5 points)\n",
    "\n",
    "Similar to Linear regression, lets implement the closed form solution to ridge regression."
   ]
  },
  {
   "cell_type": "code",
   "execution_count": 12,
   "metadata": {
    "deletable": false,
    "nbgrader": {
     "cell_type": "code",
     "checksum": "405c311e3db8fe80ab42bc9d24c38a94",
     "grade": false,
     "grade_id": "test_case4_ridge_soln",
     "locked": false,
     "schema_version": 3,
     "solution": true,
     "task": false
    }
   },
   "outputs": [],
   "source": [
    "def ridge_reg_fit(Phi_X,Y,lamb_d):\n",
    "    '''\n",
    "    A function to estimate the ridge regression model parameters using the closed form solution.\n",
    "    Inputs:\n",
    "        Phi_X: Design matrix of dimensions (m, (d+1))\n",
    "        Y: ground truth labels of dimensions (m, 1)\n",
    "        lamb_d: regularization parameter\n",
    "         \n",
    "    Outputs:\n",
    "        theta: Parameters of linear regression of dimensions ((d+1),1)\n",
    "    '''\n",
    "    #Step 1: get the dimension dplus1 using Phi_X to create the identity matrix $I_d$\n",
    "    #Step 2: Estimate the closed form solution similar to *linear_reg_fit* but now includethe lamb_d**2*I_d term\n",
    "    # your code here\n",
    "    lamb_dEye = np.multiply(lamb_d**2, np.eye(Phi_X.shape[1],Phi_X.shape[1]))\n",
    "    inverse = np.linalg.inv(np.add((np.dot(Phi_X.T, Phi_X)),lamb_dEye))\n",
    "    theta = np.dot(np.dot(inverse,Phi_X.T),Y)\n",
    "    \n",
    "    return theta"
   ]
  },
  {
   "cell_type": "code",
   "execution_count": 13,
   "metadata": {
    "deletable": false,
    "editable": false,
    "nbgrader": {
     "cell_type": "code",
     "checksum": "7fe09208485f0d05e2bbcf320255baab",
     "grade": true,
     "grade_id": "test_case4_ridge",
     "locked": true,
     "points": 5,
     "schema_version": 3,
     "solution": false,
     "task": false
    }
   },
   "outputs": [],
   "source": [
    "# Contains hidden tests\n",
    "\n",
    "random.seed(1)\n",
    "np.random.seed(1)\n",
    "m1 = 10;\n",
    "d1 = 5;\n",
    "lamb_d_t = 0.1\n",
    "X_t = np.random.randn(m1,1)\n",
    "Y_t = np.random.randn(m1,1)\n",
    "PHI_t = poly_transform(X_t,d1)\n",
    "theta_est = ridge_reg_fit(PHI_t,Y_t,lamb_d_t)"
   ]
  },
  {
   "cell_type": "markdown",
   "metadata": {
    "deletable": false,
    "editable": false,
    "nbgrader": {
     "cell_type": "markdown",
     "checksum": "6800d337a86d1ebce62552fe1be49846",
     "grade": false,
     "grade_id": "cell-9fd42614f0a882a7",
     "locked": true,
     "schema_version": 3,
     "solution": false
    }
   },
   "source": [
    "### Cross Validation to Estimate ($\\lambda$)\n",
    "\n",
    "In order to avoid overfitting when using a high degree polynomial, we have used **ridge regression**. We now need to estimate the optimal value of $\\lambda$ using **cross-validation**.\n",
    "\n",
    "We will obtain a generic value of $\\lambda$ using the entire training dataset to validate. We will employ the method of **$k$-fold cross validation**, where we split the training data into $k$ non-overlapping random subsets. In every cycle, for a given value of $\\lambda$, $(k-1)$ subsets are used for training the ridge regression model and the remaining subset is used for evaluating the goodness of the fit. We estimate the average goodness of the fit across all the subsets and select the $lambda$ that results in the best fit.\n"
   ]
  },
  {
   "cell_type": "markdown",
   "metadata": {
    "deletable": false,
    "editable": false,
    "nbgrader": {
     "cell_type": "markdown",
     "checksum": "3e343c0eda71cc62a6808886bb2569f1",
     "grade": false,
     "grade_id": "cell-90d40e75daa8feef",
     "locked": true,
     "schema_version": 3,
     "solution": false,
     "task": false
    }
   },
   "source": [
    "![K-fold cross validation](images/kfold.png)"
   ]
  },
  {
   "cell_type": "markdown",
   "metadata": {
    "deletable": false,
    "editable": false,
    "nbgrader": {
     "cell_type": "markdown",
     "checksum": "8e559b6b17bd8aa879dd1bddad1c7c8d",
     "grade": false,
     "grade_id": "cell-96d803a3833c72df",
     "locked": true,
     "schema_version": 3,
     "solution": false,
     "task": false
    }
   },
   "source": [
    "It is easier to shuffle the index and slice the training into required number of segments, than processing the complete dataset. The below function **k_val_ind$()$** returns a 2D list of indices by spliting the datapoints into  '$k\\_fold$'  sets\n",
    "\n",
    "Refer the following documentation for splitting and shuffling:\n",
    "\n",
    "- https://docs.scipy.org/doc/numpy-1.15.0/reference/generated/numpy.random.shuffle.html\n",
    "- https://docs.scipy.org/doc/numpy/reference/generated/numpy.split.html\n"
   ]
  },
  {
   "cell_type": "code",
   "execution_count": 14,
   "metadata": {
    "deletable": false,
    "editable": false,
    "nbgrader": {
     "cell_type": "code",
     "checksum": "1635c75c1527de81a46d4546e224c714",
     "grade": false,
     "grade_id": "cell-9f25cba02cb4420b",
     "locked": true,
     "schema_version": 3,
     "solution": false,
     "task": false
    }
   },
   "outputs": [],
   "source": [
    "def k_val_ind(index,k_fold,seed=1):\n",
    "    '''\n",
    "    Function to split the data into k folds for cross validation. Returns the indices of the data points \n",
    "    belonging to every split.\n",
    "    \n",
    "    Inputs:\n",
    "        index: all the indices of the training\n",
    "        k_fold: number of folds to split the data into\n",
    "    \n",
    "    Outputs:\n",
    "        k_set: list of arrays with indices\n",
    "    ''' \n",
    "    np.random.seed(seed)\n",
    "    np.random.shuffle(index) # Shuffle the indices\n",
    "    k_set = np.split(index,k_fold) # Split the indices into 'k_fold' \n",
    "    return k_set"
   ]
  },
  {
   "cell_type": "markdown",
   "metadata": {
    "deletable": false,
    "editable": false,
    "nbgrader": {
     "cell_type": "markdown",
     "checksum": "4af98cf3581180550c097b3bc5960642",
     "grade": false,
     "grade_id": "cell-b114c1ebca476cef",
     "locked": true,
     "schema_version": 3,
     "solution": false,
     "task": false
    }
   },
   "source": [
    "### K- Fold Cross Validation (10 Points)\n",
    "\n",
    "Let's now implement $k$-fold cross validation."
   ]
  },
  {
   "cell_type": "code",
   "execution_count": 15,
   "metadata": {
    "deletable": false,
    "nbgrader": {
     "cell_type": "code",
     "checksum": "5f57aa21ac91806c1ebdfe878f83fb9d",
     "grade": false,
     "grade_id": "test_case5_k_fold_soln",
     "locked": false,
     "schema_version": 3,
     "solution": true,
     "task": false
    }
   },
   "outputs": [],
   "source": [
    "def k_fold_cv(k_fold,train_X,train_Y,lamb_d,d):\n",
    "    '''\n",
    "    Function to implement k-fold cross validation.\n",
    "    Inputs:\n",
    "        k_fold: number of validation subsests\n",
    "        train_X: training data of dimensions (m, 1) \n",
    "        train_Y: ground truth training labels\n",
    "        lamb_d: ridge regularization lambda parameter\n",
    "        d: polynomial degree\n",
    "        \n",
    "    Outputs:\n",
    "        rmse_list: list of root mean square errors (RMSE) for k_folds \n",
    "    '''\n",
    "    index = np.arange(train_X.shape[0]) # indices of the training data\n",
    "    k_set = k_val_ind(index,k_fold) # pre-defined function to shuffle and split indices \n",
    "\n",
    "    Phi_X = poly_transform(train_X, d) #transform all the data to (m,(d+1)) dimensions\n",
    "    rmse_list = [] \n",
    "    for i in range(k_fold):\n",
    "        ind = np.zeros(train_X.shape[0], dtype=bool) # binary mask\n",
    "        ind[k_set[i]] = True # validation portion is indicated\n",
    "\n",
    "        #Note: Eg. train_X[ind] -> validation set, train_X[~ind] -> training set \n",
    "        # Write your answer inside the 'for' loop\n",
    "        # Note: Phi_X[~ind,:] is training subset and Phi_X[ind,:] is validation subset. Similary for the train and validation labels.\n",
    "        # Step 1: Estimate the theta parameter using ridge_reg_fit with the training subset, training labels and lamb_d\n",
    "        # Step 2: Estimate the prediction Y_pred over the validation as a dot product over Phi_X[ind,:] and theta\n",
    "        # Step 3: use 'get_rmse' function to determine rmse using Y_pred and train_Y[ind]\n",
    "        \n",
    "        # your code here\n",
    "        Phi_X_tr = poly_transform(train_X[~ind,:],d)\n",
    "        theta = ridge_reg_fit(Phi_X_tr,train_Y[~ind,:],lamb_d)\n",
    "        #Estimate the prediction on the train data\n",
    "        Y_Pred_tr = np.dot(Phi_X_tr,theta)\n",
    "#         rmse = get_rmse(Y_Pred_tr,train_Y[~ind])\n",
    "#         print('Train RMSE = ', rmse)\n",
    "\n",
    "        #Perform the same transform on the test data\n",
    "        Phi_X_vl = poly_transform(train_X[ind,:],d)\n",
    "        #Estimate the prediction on the test data\n",
    "        Y_Pred_vl = np.dot(Phi_X_vl,theta)\n",
    "        #Evaluate the goodness of the fit\n",
    "        rmse = get_rmse(Y_Pred_vl,train_Y[ind])\n",
    "#         print('Test RMSE = ', rmse)\n",
    "\n",
    "        \n",
    "        rmse_list.append(rmse)\n",
    "    return rmse_list"
   ]
  },
  {
   "cell_type": "code",
   "execution_count": 16,
   "metadata": {
    "deletable": false,
    "editable": false,
    "nbgrader": {
     "cell_type": "code",
     "checksum": "4af9a2c4800c30dd3ff76b444ad52383",
     "grade": true,
     "grade_id": "test_case5_k_fold",
     "locked": true,
     "points": 10,
     "schema_version": 3,
     "solution": false,
     "task": false
    }
   },
   "outputs": [],
   "source": [
    "# Contains hidden tests\n",
    "\n",
    "np.random.seed(1)\n",
    "m1 = 20;\n",
    "d1 = 5;\n",
    "k_fold_t = 5 # number of portions to split the training data\n",
    "lamb_d_t = 0.1\n",
    "X_t = np.random.randn(m1,1)\n",
    "Y_t = np.random.randn(m1,1)\n",
    "\n",
    "rmse_list_est = k_fold_cv(k_fold_t,X_t,Y_t,lamb_d_t,d1)\n"
   ]
  },
  {
   "cell_type": "markdown",
   "metadata": {
    "deletable": false,
    "editable": false,
    "nbgrader": {
     "cell_type": "markdown",
     "checksum": "042925615ce42cfacde44f6e8c123664",
     "grade": false,
     "grade_id": "cell-504dec0a4f62dce1",
     "locked": true,
     "schema_version": 3,
     "solution": false,
     "task": false
    }
   },
   "source": [
    "Let us select the value of $\\lambda$ that provides the lowest error based on RMSE returned by the 'k_fold_cv' function.\n",
    "\n",
    "In this example, we will choose the best value of $\\lambda$ among 6 values."
   ]
  },
  {
   "cell_type": "code",
   "execution_count": 17,
   "metadata": {
    "deletable": false,
    "editable": false,
    "nbgrader": {
     "cell_type": "code",
     "checksum": "e5d42a96649f743ac378ec5667c20ed9",
     "grade": false,
     "grade_id": "evaluate_best_lambda",
     "locked": true,
     "schema_version": 3,
     "solution": false,
     "task": false
    },
    "scrolled": true
   },
   "outputs": [
    {
     "name": "stdout",
     "output_type": "stream",
     "text": [
      "lambda:0\n",
      "RMSE:  [0.900954295623315, 0.5994803208934071, 0.4889900288640249, 0.573527019641338, 0.5778677359302081]\n",
      "*************\n",
      "lambda:0.001\n",
      "RMSE:  [0.9256125413643892, 0.6019049191502326, 0.4886839013160882, 0.570851998218019, 0.578453580585335]\n",
      "*************\n",
      "lambda:0.01\n",
      "RMSE:  [1.0459150607219652, 0.6251818344585315, 0.49331521800220113, 0.557059022674058, 0.5899606198111953]\n",
      "*************\n",
      "lambda:0.1\n",
      "RMSE:  [0.8261469892856536, 0.6465246728225232, 0.4903313064988208, 0.5660950135649823, 0.594567056973814]\n",
      "*************\n",
      "lambda:1\n",
      "RMSE:  [0.6799665281582076, 0.6886693538180663, 0.5647357571721459, 0.6393075143501448, 0.6470329226897773]\n",
      "*************\n",
      "lambda:10\n",
      "RMSE:  [0.733526104199645, 0.6993069184744143, 0.7556132498851601, 0.7992608700240204, 0.8199075014797217]\n",
      "*************\n",
      "Best value for the regularization parameter(lamb_d): 0.1\n"
     ]
    }
   ],
   "source": [
    "k_fold = 5 \n",
    "l_range = [0,1e-3,1e-2,1e-1,1,10] # The set of lamb_d parameters used for validation.\n",
    "th = float('inf')\n",
    "for lamb_d in l_range:     \n",
    "    print('lambda:'+str(lamb_d))\n",
    "    rmse = k_fold_cv(k_fold,train_X,train_Y,lamb_d,d)\n",
    "    print(\"RMSE: \",rmse)\n",
    "    print(\"*************\")\n",
    "    mean_rmse = np.mean(rmse)\n",
    "    if mean_rmse<th:\n",
    "        th = mean_rmse\n",
    "        l_best = lamb_d\n",
    "\n",
    "print(\"Best value for the regularization parameter(lamb_d):\",l_best)"
   ]
  },
  {
   "cell_type": "code",
   "execution_count": 18,
   "metadata": {},
   "outputs": [
    {
     "name": "stdout",
     "output_type": "stream",
     "text": [
      "0.6247330078291589\n"
     ]
    }
   ],
   "source": [
    "a = float('inf')\n",
    "a = th\n",
    "print(a)"
   ]
  },
  {
   "cell_type": "markdown",
   "metadata": {
    "deletable": false,
    "editable": false,
    "nbgrader": {
     "cell_type": "markdown",
     "checksum": "0b5647a7ae669d68bd5d0e45fc2c35f9",
     "grade": false,
     "grade_id": "cell-ad8d5b46266cc238",
     "locked": true,
     "schema_version": 3,
     "solution": false
    }
   },
   "source": [
    "### Evaluation on the Test Set (10 Points)\n",
    "\n",
    "As discussed in previous section, we will present the final evaluation of the model based on the test set."
   ]
  },
  {
   "cell_type": "code",
   "execution_count": 19,
   "metadata": {
    "deletable": false,
    "nbgrader": {
     "cell_type": "code",
     "checksum": "f23ae9a7c340f0a29dca6b8409b9eadf",
     "grade": false,
     "grade_id": "test_case6_test_eval_soln",
     "locked": false,
     "schema_version": 3,
     "solution": true,
     "task": false
    }
   },
   "outputs": [
    {
     "name": "stdout",
     "output_type": "stream",
     "text": [
      "RMSE on test set is 0.4985009962619602\n"
     ]
    }
   ],
   "source": [
    "lamb_d = l_best\n",
    "\n",
    "# Step 1: Create Phi_X using 'poly_transform(.)' on the train_X and d=20\n",
    "# Step 2: Estimate theta using ridge_reg_fit(.) with Phi_X, train_Y and the best lambda\n",
    "# Step 3: Create Phi_X_test using 'poly_transform(.)' on the test_X and d=20\n",
    "# Step 4: Estimate the Y_Pred for the test data using Phi_X_test and theta\n",
    "# Step 5: Estimate rmse using get_rmse(.) on the Y_Pred and test_Y \n",
    "\n",
    "# your code here\n",
    "d = 20\n",
    "Phi_X = poly_transform(train_X,d)\n",
    "theta = ridge_reg_fit(Phi_X,train_Y,lamb_d)\n",
    "Phi_X_ts = poly_transform(test_X,d)\n",
    "Y_Pred_ts = np.dot(Phi_X_ts,theta)\n",
    "rmse = get_rmse(Y_Pred_ts,test_Y)\n",
    "\n",
    "print(\"RMSE on test set is \"+str(rmse))"
   ]
  },
  {
   "cell_type": "code",
   "execution_count": 20,
   "metadata": {
    "deletable": false,
    "editable": false,
    "nbgrader": {
     "cell_type": "code",
     "checksum": "a552b67d41fea73788eae5c21d29ef90",
     "grade": true,
     "grade_id": "test_case6_test_eval",
     "locked": true,
     "points": 10,
     "schema_version": 3,
     "solution": false,
     "task": false
    }
   },
   "outputs": [],
   "source": [
    "# Contains hidden tests checking for rmse < 0.5"
   ]
  },
  {
   "cell_type": "markdown",
   "metadata": {
    "deletable": false,
    "editable": false,
    "nbgrader": {
     "cell_type": "markdown",
     "checksum": "ee53e6bd8130eb2de3b26b416a8e189b",
     "grade": false,
     "grade_id": "cell-d3a8085e8fb78c6a",
     "locked": true,
     "schema_version": 3,
     "solution": false,
     "task": false
    }
   },
   "source": [
    "Let's visualize the model's prediction on the test data set."
   ]
  },
  {
   "cell_type": "code",
   "execution_count": 21,
   "metadata": {
    "deletable": false,
    "editable": false,
    "nbgrader": {
     "cell_type": "code",
     "checksum": "71dd4e0490d251a6f21f51ec2f3b8244",
     "grade": false,
     "grade_id": "cell-3b03fae185cb3ca0",
     "locked": true,
     "schema_version": 3,
     "solution": false,
     "task": false
    }
   },
   "outputs": [
    {
     "name": "stdout",
     "output_type": "stream",
     "text": [
      "Test RMSE =  0.4985009962619602\n"
     ]
    },
    {
     "data": {
      "image/png": "[encoded data removed]",
      "text/plain": [
       "<Figure size 432x288 with 1 Axes>"
      ]
     },
     "metadata": {
      "needs_background": "light"
     },
     "output_type": "display_data"
    }
   ],
   "source": [
    "print('Test RMSE = ', rmse)\n",
    "\n",
    "%matplotlib inline\n",
    "plt.scatter(test_X,test_Y,marker='o',s=4)\n",
    "# Sampling more points to plot a smooth curve\n",
    "px = np.linspace(-2,2,100).reshape(-1,1)\n",
    "PX = poly_transform(px,d)\n",
    "py = np.dot(PX,theta)\n",
    "plt.xlabel('x')\n",
    "plt.ylabel('y')\n",
    "plt.ylim(-2, 3)\n",
    "plt.plot(px,py,color='red');"
   ]
  },
  {
   "cell_type": "markdown",
   "metadata": {
    "deletable": false,
    "editable": false,
    "nbgrader": {
     "cell_type": "markdown",
     "checksum": "52683baeb15aa2d5d4cd91096899fc16",
     "grade": false,
     "grade_id": "cell-a7c8603b7da65b99",
     "locked": true,
     "schema_version": 3,
     "solution": false
    }
   },
   "source": [
    "You have completed linear ridge regression and estimated the best value for the regularization parameter $\\lambda$ using k-fold cross validation. "
   ]
  },
  {
   "cell_type": "markdown",
   "metadata": {
    "deletable": false,
    "editable": false,
    "nbgrader": {
     "cell_type": "markdown",
     "checksum": "8d2244633a1b32321d679ea371761aba",
     "grade": false,
     "grade_id": "cell-e8eeecd017a348a4",
     "locked": true,
     "schema_version": 3,
     "solution": false
    }
   },
   "source": [
    "# Section II - Logistic Regression\n",
    "\n",
    "Machine learning is used in medicine for assisting doctors with crucial decision-making based on dignostic data. \n",
    "In this assignment we will be designing a logistic regression model (single layer neural network) to predict if a subject is diabetic or not. The model will classify the subjects into two groups diabetic (Class 1) or non-diabetic (Class 0) - a binary classification model.\n",
    "\n",
    "We will be using the 'Pima Indians Diabetes dataset' to train our model which contains different clinical parameters (features) for multiple subjects along with the label (diabetic or not-diabetic). Each  subject is represented by 8 features (Pregnancies, Glucose, Blood-Pressure, SkinThickness, Insulin, BMI, Diabetes-Pedigree-Function, Age) and the 'Outcome' which is the class label. The dataset contains the results from 768 subjects.\n",
    "\n",
    "We will be spliting the dataset into train and test data. We will train our model on the train data and predict the categories on the test data. "
   ]
  },
  {
   "cell_type": "code",
   "execution_count": 22,
   "metadata": {
    "deletable": false,
    "editable": false,
    "nbgrader": {
     "cell_type": "code",
     "checksum": "5d4bf90e6f741c532368a785b2214def",
     "grade": false,
     "grade_id": "logistic_libraries_import",
     "locked": true,
     "schema_version": 3,
     "solution": false
    }
   },
   "outputs": [],
   "source": [
    "#importing a few libraries\n",
    "import numpy as np\n",
    "from datasets import pima_data\n",
    "import sys\n",
    "import matplotlib.pyplot as plt\n",
    "import numpy.testing as npt"
   ]
  },
  {
   "cell_type": "markdown",
   "metadata": {
    "deletable": false,
    "editable": false,
    "nbgrader": {
     "cell_type": "markdown",
     "checksum": "d73748b77b16f0b8e54ef003a62d8700",
     "grade": false,
     "grade_id": "cell-b11dd0b0cb9855e4",
     "locked": true,
     "schema_version": 3,
     "solution": false
    }
   },
   "source": [
    "## 1. Load Data, Visualize and Normalize\n",
    "\n",
    "Let us load the training and test data."
   ]
  },
  {
   "cell_type": "code",
   "execution_count": 23,
   "metadata": {
    "deletable": false,
    "editable": false,
    "nbgrader": {
     "cell_type": "code",
     "checksum": "9ec2d9c682767e9341c463b61e4e21fa",
     "grade": false,
     "grade_id": "call_load_diabetes_dataset",
     "locked": true,
     "schema_version": 3,
     "solution": false
    }
   },
   "outputs": [
    {
     "name": "stdout",
     "output_type": "stream",
     "text": [
      "train_X.shape =  (500, 8)\n",
      "train_Y.shape =  (500,)\n",
      "test_X.shape =  (268, 8)\n",
      "test_Y.shape =  (268,)\n",
      "\n",
      "Few Train data examples\n",
      "[[6.000e+00 1.480e+02 7.200e+01 3.500e+01 0.000e+00 3.360e+01 6.270e-01\n",
      "  5.000e+01]\n",
      " [1.000e+00 8.500e+01 6.600e+01 2.900e+01 0.000e+00 2.660e+01 3.510e-01\n",
      "  3.100e+01]\n",
      " [8.000e+00 1.830e+02 6.400e+01 0.000e+00 0.000e+00 2.330e+01 6.720e-01\n",
      "  3.200e+01]\n",
      " [1.000e+00 8.900e+01 6.600e+01 2.300e+01 9.400e+01 2.810e+01 1.670e-01\n",
      "  2.100e+01]\n",
      " [0.000e+00 1.370e+02 4.000e+01 3.500e+01 1.680e+02 4.310e+01 2.288e+00\n",
      "  3.300e+01]]\n",
      "\n",
      "Few Train data labels\n",
      "[1. 0. 1. 0. 1.]\n"
     ]
    }
   ],
   "source": [
    "train_X,train_Y,test_X,test_Y  = pima_data()\n",
    "\n",
    "print('train_X.shape = ', train_X.shape)\n",
    "print('train_Y.shape = ', train_Y.shape)\n",
    "print('test_X.shape = ', test_X.shape)\n",
    "print('test_Y.shape = ', test_Y.shape)\n",
    "\n",
    "# Lets examine the data\n",
    "print('\\nFew Train data examples')\n",
    "print(train_X[:5, :])\n",
    "print('\\nFew Train data labels')\n",
    "print(train_Y[:5])"
   ]
  },
  {
   "cell_type": "code",
   "execution_count": 24,
   "metadata": {
    "deletable": false,
    "editable": false,
    "nbgrader": {
     "cell_type": "code",
     "checksum": "23d5f17124b14be46d486ffa19ea4a6d",
     "grade": false,
     "grade_id": "reshape_normalize_data",
     "locked": true,
     "schema_version": 3,
     "solution": false,
     "task": false
    }
   },
   "outputs": [
    {
     "name": "stdout",
     "output_type": "stream",
     "text": [
      "train_X.shape =  (8, 500)\n",
      "train_Y.shape =  (1, 500)\n",
      "test_X.shape =  (8, 268)\n",
      "test_Y.shape =  (1, 268)\n",
      "\n",
      "Few Train data examples\n",
      "[[0.35294118 0.05882353 0.47058824 0.05882353 0.        ]\n",
      " [0.74371859 0.42713568 0.91959799 0.44723618 0.68844221]\n",
      " [0.59016393 0.54098361 0.52459016 0.54098361 0.32786885]\n",
      " [0.35353535 0.29292929 0.         0.23232323 0.35353535]\n",
      " [0.         0.         0.         0.11111111 0.19858156]\n",
      " [0.50074516 0.39642325 0.34724292 0.41877794 0.64232489]\n",
      " [0.25909091 0.14504132 0.27768595 0.06900826 0.94545455]\n",
      " [0.61728395 0.38271605 0.39506173 0.25925926 0.40740741]]\n",
      "\n",
      "Few Train data labels\n",
      "[1. 0. 1. 0. 1.]\n"
     ]
    }
   ],
   "source": [
    "# We notice the data is not normalized. Lets do a simple normalization scaling to data between 0 and 1\n",
    "# Normalized data is easier to train using large learning rates\n",
    "train_X = np.nan_to_num(train_X/train_X.max(axis=0))\n",
    "test_X = np.nan_to_num(test_X/test_X.max(axis=0))\n",
    "\n",
    "#Lets reshape the data so it matches our notation from the lecture. \n",
    "#train_X should be (d, m) and train_Y should (1,m) similarly for test_X and test_Y\n",
    "train_X = train_X.T\n",
    "train_Y= train_Y.reshape(1,-1)\n",
    "\n",
    "test_X = test_X.T\n",
    "test_Y= test_Y.reshape(1,-1)\n",
    "print('train_X.shape = ', train_X.shape)\n",
    "print('train_Y.shape = ', train_Y.shape)\n",
    "print('test_X.shape = ', test_X.shape)\n",
    "print('test_Y.shape = ', test_Y.shape)\n",
    "\n",
    "# Lets examine the data and verify it is normalized\n",
    "print('\\nFew Train data examples')\n",
    "print(train_X[:, :5])\n",
    "print('\\nFew Train data labels')\n",
    "print(train_Y[0,:5])"
   ]
  },
  {
   "cell_type": "code",
   "execution_count": 25,
   "metadata": {
    "deletable": false,
    "editable": false,
    "nbgrader": {
     "cell_type": "code",
     "checksum": "be3b48d4384b4a15d8da1bacad09a361",
     "grade": false,
     "grade_id": "visualize_diabetes_data",
     "locked": true,
     "schema_version": 3,
     "solution": false,
     "task": false
    }
   },
   "outputs": [
    {
     "data": {
      "image/png": "[encoded data removed]",
      "text/plain": [
       "<Figure size 432x288 with 1 Axes>"
      ]
     },
     "metadata": {
      "needs_background": "light"
     },
     "output_type": "display_data"
    }
   ],
   "source": [
    "#There are 8 features for each of the data points. Lets plot the data using a couple of features\n",
    "fig, ax = plt.subplots()\n",
    "plt.scatter(train_X[6,:],train_X[7,:], c=train_Y[0])\n",
    "plt.xlabel('Diabetes-Pedigree-Function')\n",
    "plt.ylabel('Age')\n",
    "plt.show();\n",
    "# We have plotted train_X[6,:],train_X[7,:]. \n",
    "# Feel free to insert your own cells to plot and visualize different variable pairs. "
   ]
  },
  {
   "cell_type": "markdown",
   "metadata": {
    "deletable": false,
    "editable": false,
    "nbgrader": {
     "cell_type": "markdown",
     "checksum": "9aceaf79c55e015b8be5cb472ac5f978",
     "grade": false,
     "grade_id": "cell-14e2d8a3057c00ec",
     "locked": true,
     "schema_version": 3,
     "solution": false
    }
   },
   "source": [
    "## 2. Quick Review of the Steps Involved in Logistic Regression Using Gradient Descent.\n",
    "\n",
    "1. Training data $X$ is of dimensions $(d \\times m)$ where $d$ is number of features and $m$ is number of samples. Training labels $Y$ is of dimensions $(1 \\times m)$. \n",
    "\n",
    "2. Initilaize logistic regression model parameters $w$ and $b$ where $w$ is of dimensions $(d, 1)$ and $b$ is a scalar. $w$ is initialized to small random values and $b$ is set to zero\n",
    "\n",
    "3. Calculate $Z$ using $X$ and intial parameter values $(w , b)$ \n",
    "<center> \n",
    "    \\begin{equation*}\n",
    "     Z= w^\\top X + b\n",
    "    \\end{equation*}\n",
    "</center>\n",
    "\n",
    "4. Apply the sigmoid activation to estimate $A$ on $Z$,\n",
    "<center> \n",
    "    \\begin{equation*}\n",
    "     A=\\frac{1}{1+\\text{exp}(-Z)}\n",
    "    \\end{equation*}\n",
    "</center>\n",
    "\n",
    "5. Calculate the loss $L()$ between predicted probabilities $A$ and groundtruth labels $Y$,\n",
    "<center> \n",
    "    \\begin{equation*}\n",
    "     loss = logistic\\_loss(A,Y)\n",
    "    \\end{equation*}\n",
    "</center>\n",
    "\n",
    "4. Calculate gradient dZ (or $\\frac{dL}{dZ}$),\n",
    "<center> \n",
    "    \\begin{equation*}\n",
    "     dZ = (A - Y)\n",
    "    \\end{equation*}\n",
    "</center>\n",
    "\n",
    "5. Calculate gradients $\\frac{dL}{dw}$ represented by $dw$, $\\frac{dL}{db}$ represented by $db$\n",
    "<center> \n",
    "    \\begin{equation*}\n",
    "     dw,db = grad\\_fn(X ,dZ)\n",
    "    \\end{equation*}\n",
    "</center>\n",
    "6. Adjust the model parameters using the gradients. Here $\\alpha$ is the learning rate.\n",
    "<center> \n",
    "    \\begin{equation*}\n",
    "     w := w - \\alpha.dw\\\\\n",
    "     b := b - \\alpha.db\n",
    "    \\end{equation*}\n",
    "</center>\n",
    "7. Loop until the loss converges or for a fixed number of epochs. \n",
    "We will first define the functions **logistic_loss()** and **grad_fn()** along with other functions below. "
   ]
  },
  {
   "cell_type": "markdown",
   "metadata": {},
   "source": [
    "# Review\n",
    "\n",
    "![Lecture Notes](images/lecture_notes.png)"
   ]
  },
  {
   "cell_type": "markdown",
   "metadata": {
    "deletable": false,
    "editable": false,
    "nbgrader": {
     "cell_type": "markdown",
     "checksum": "aae97c14c5cbec91d0eb907b260f018c",
     "grade": false,
     "grade_id": "cell-0ca673d4d31d5a81",
     "locked": true,
     "schema_version": 3,
     "solution": false
    }
   },
   "source": [
    "### Intialize Parameters (5 Points)\n",
    "\n",
    "we will initialize the model parameters. The weights will be initialized with small random values and bias as 0. While the bias will be a scalar, the dimension of weight vector will be $(d \\times 1)$, where $d$ is the number of features.\n",
    "\n",
    "\n",
    "Hint:[np.random.randn](https://docs.scipy.org/doc/numpy-1.15.1/reference/generated/numpy.random.randn.html) can be used here to create a vector of random integers of desired shape."
   ]
  },
  {
   "cell_type": "code",
   "execution_count": 26,
   "metadata": {
    "deletable": false,
    "nbgrader": {
     "cell_type": "code",
     "checksum": "6764ca2431158d254b4956233ff852a7",
     "grade": false,
     "grade_id": "test_case7_initialize_soln",
     "locked": false,
     "schema_version": 3,
     "solution": true
    }
   },
   "outputs": [],
   "source": [
    "def initialize(d, seed=1):\n",
    "    '''\n",
    "    Function to initialize the parameters for the logisitic regression model\n",
    "    \n",
    "    Inputs:\n",
    "        d: number of features for every data point\n",
    "        seed: random generator seed for reproducing the results\n",
    "        \n",
    "    Outputs:\n",
    "        w: weight vector of dimensions (d, 1)\n",
    "        b: scalar bias value\n",
    "    '''\n",
    "    np.random.seed(seed)\n",
    "    \n",
    "    # NOTE: initialize w to be a (d,1) column vector instead of (d,) vector \n",
    "    # Hint: initialize w to a random vector with small values. For example, 0.01*np.random.randn(.) can be used.\n",
    "    #       and initialize b to scalar 0\n",
    "    # your code here\n",
    "    w = np.random.randn(d,1) * 0.01\n",
    "#     b = np.zeros((d,1))\n",
    "    b = 0\n",
    "    \n",
    "    return w,b"
   ]
  },
  {
   "cell_type": "code",
   "execution_count": 27,
   "metadata": {
    "deletable": false,
    "editable": false,
    "nbgrader": {
     "cell_type": "code",
     "checksum": "e64b722c61fdf5e1c4f1259f346ba1b9",
     "grade": true,
     "grade_id": "test_case7_initialize",
     "locked": true,
     "points": 5,
     "schema_version": 3,
     "solution": false
    }
   },
   "outputs": [],
   "source": [
    "# Contains hidden tests "
   ]
  },
  {
   "cell_type": "code",
   "execution_count": 28,
   "metadata": {},
   "outputs": [
    {
     "name": "stdout",
     "output_type": "stream",
     "text": [
      "(array([[ 0.01624345],\n",
      "       [-0.00611756],\n",
      "       [-0.00528172]]), 0)\n"
     ]
    }
   ],
   "source": [
    "print(initialize(3))"
   ]
  },
  {
   "cell_type": "markdown",
   "metadata": {
    "deletable": false,
    "editable": false,
    "nbgrader": {
     "cell_type": "markdown",
     "checksum": "dd1dffc7dfa131361bfbf632d1258b95",
     "grade": false,
     "grade_id": "cell-6b8460e10ba5fa76",
     "locked": true,
     "schema_version": 3,
     "solution": false
    }
   },
   "source": [
    "### Sigmoid Function (5 Points)\n",
    "\n",
    "Let's now implement Sigmoid activation function.\n",
    "\n",
    "<center> \n",
    "    \\begin{equation*}\n",
    "    \\sigma \\left(z\\right) = \\frac{1}{1+\\text{exp}(-z)}\n",
    "    \\end{equation*}\n",
    "</center>\n",
    "\n",
    "where z is in the input variable.\n",
    "Hint: [numpy.exp](https://docs.scipy.org/doc/numpy/reference/generated/numpy.exp.html) can be used for defining the exponential function."
   ]
  },
  {
   "cell_type": "code",
   "execution_count": 29,
   "metadata": {
    "deletable": false,
    "nbgrader": {
     "cell_type": "code",
     "checksum": "70fbfdf02bc2c7125d7fce3cbfbcf354",
     "grade": false,
     "grade_id": "test_case8_sigmoid_soln",
     "locked": false,
     "schema_version": 3,
     "solution": true
    }
   },
   "outputs": [],
   "source": [
    "def sigmoid(z):\n",
    "    # your code here\n",
    "    A = 1/(1 + np.exp(-z))\n",
    "    \n",
    "    return A"
   ]
  },
  {
   "cell_type": "code",
   "execution_count": 30,
   "metadata": {
    "deletable": false,
    "editable": false,
    "nbgrader": {
     "cell_type": "code",
     "checksum": "a5d86d2726bdb9ebeb2ed8a17bcb5494",
     "grade": true,
     "grade_id": "test_case8_sigmoid",
     "locked": true,
     "points": 5,
     "schema_version": 3,
     "solution": false
    }
   },
   "outputs": [],
   "source": [
    "# Contains hidden tests \n",
    "\n",
    "np.random.seed(1)\n",
    "d = 2\n",
    "m1 = 5\n",
    "X_t = np.random.randn(d,m1)"
   ]
  },
  {
   "cell_type": "code",
   "execution_count": 31,
   "metadata": {},
   "outputs": [
    {
     "name": "stdout",
     "output_type": "stream",
     "text": [
      "0.9975273768433653\n"
     ]
    }
   ],
   "source": [
    "print(sigmoid(6))"
   ]
  },
  {
   "cell_type": "markdown",
   "metadata": {
    "deletable": false,
    "editable": false,
    "nbgrader": {
     "cell_type": "markdown",
     "checksum": "e33ee4649f724eac22fa20bbba370a6d",
     "grade": false,
     "grade_id": "cell-544d573972009ef1",
     "locked": true,
     "schema_version": 3,
     "solution": false
    }
   },
   "source": [
    "### Logistic Loss Function (5 Points)\n",
    "\n",
    "We will define the objective function that will be used later for determining the loss between the model prediction and groundtruth labels. We will use vectors $A$ (activation output of the logistic neuron) and $Y$ (groundtruth labels) for defining the loss. \n",
    "\n",
    "<center> \n",
    "    \\begin{equation*}\n",
    "    L(A,Y) = -\\frac{1}{m}\\sum_{i =1}^{m}y^{(i)}\\text{log} a^{(i)} + (1-y^{(i)}) \\text{log}( 1 - a^{(i)})\n",
    "    \\end{equation*}\n",
    "</center>\n",
    "\n",
    "where $m$ is the number of input datapoints and is used for averaging the total loss.\n",
    "Hint: [numpy.sum](https://docs.scipy.org/doc/numpy/reference/generated/numpy.sum.html) and [numpy.log](https://docs.scipy.org/doc/numpy/reference/generated/numpy.log.html)."
   ]
  },
  {
   "cell_type": "code",
   "execution_count": 32,
   "metadata": {
    "deletable": false,
    "nbgrader": {
     "cell_type": "code",
     "checksum": "b7d752866e502bfa5348492d1956d975",
     "grade": false,
     "grade_id": "test_case9_loss_soln",
     "locked": false,
     "schema_version": 3,
     "solution": true
    }
   },
   "outputs": [],
   "source": [
    "def logistic_loss(A,Y):\n",
    "    '''\n",
    "    Function to calculate the logistic loss given the predictions and the targets.\n",
    "    \n",
    "    Inputs:\n",
    "        A: Estimated prediction values, A is of dimension (1, m)\n",
    "        Y: groundtruth labels, Y is of dimension (1, m)\n",
    "        \n",
    "    Outputs:\n",
    "        loss: logistic loss\n",
    "    '''\n",
    "    m = A.shape[1]\n",
    "    # your code here\n",
    "    loss = np.sum(np.multiply(-Y, np.log(A)) + np.multiply(-(1-Y), np.log(1-A)))/m\n",
    "#     loss =-(1/m) * np.sum(np.multiply(Y, np.log(A)) + np.multiply((1-Y), np.log(1-A)))\n",
    "\n",
    "    \n",
    "    return loss"
   ]
  },
  {
   "cell_type": "code",
   "execution_count": 33,
   "metadata": {
    "deletable": false,
    "editable": false,
    "nbgrader": {
     "cell_type": "code",
     "checksum": "81808f39a2854de217dc890e77bf3067",
     "grade": true,
     "grade_id": "test_case9_loss",
     "locked": true,
     "points": 5,
     "schema_version": 3,
     "solution": false,
     "task": false
    }
   },
   "outputs": [],
   "source": [
    "# Contains hidden tests \n",
    "\n",
    "np.random.seed(1)\n",
    "d = 2\n",
    "m1 = 10\n",
    "X_t = np.random.randn(d,m1)\n",
    "Y_t = np.random.rand(1,m1)\n",
    "Y_t[Y_t>0.5] = 1\n",
    "Y_t[Y_t<=0.5] = 0"
   ]
  },
  {
   "cell_type": "code",
   "execution_count": 34,
   "metadata": {},
   "outputs": [
    {
     "name": "stdout",
     "output_type": "stream",
     "text": [
      "0.6950087090914167\n"
     ]
    }
   ],
   "source": [
    "w,b = initialize(2, 1)\n",
    "X = np.random.randn(2,10)\n",
    "Y = np.random.rand(1,10)\n",
    "A = sigmoid(np.dot(w.T,X) + b)\n",
    "loss = logistic_loss(A,Y)\n",
    "print(loss)"
   ]
  },
  {
   "cell_type": "markdown",
   "metadata": {
    "deletable": false,
    "editable": false,
    "nbgrader": {
     "cell_type": "markdown",
     "checksum": "882c173c85c6a40a03802eeebb201d2b",
     "grade": false,
     "grade_id": "cell-773df530bc7d1531",
     "locked": true,
     "schema_version": 3,
     "solution": false
    }
   },
   "source": [
    "### Gradient Function (5 Points)\n",
    "\n",
    "Let us define the gradient function for calculating the gradients ($\\frac{dL}{dw},\\frac{dL}{db}$). We will use it during gradient descent.\n",
    "\n",
    "The gradients can be calculated as,\n",
    "<center> \n",
    "    \\begin{equation*}\n",
    "    dw = \\frac{1}{m}X( A- Y)^{T}\\\\\n",
    "    db = \\frac{1}{m}\\sum_{i =1}^{m} (a^{(i)} - y^{(i)})\n",
    "    \\end{equation*}\n",
    "</center>\n",
    "\n",
    "Instead of $(A-Y)$, we will use dZ (or $\\frac{dL}{dZ}$) since,\n",
    "<center> \n",
    "    \\begin{equation*}\n",
    "    dZ = \\left( A- Y\\right)\n",
    "    \\end{equation*}\n",
    "</center>\n",
    "Make sure the gradients are of correct dimensions. Refer to lecture for more information.\n",
    "\n",
    "Hint: [numpy.dot](https://docs.scipy.org/doc/numpy/reference/generated/numpy.dot.html) and\n",
    "[numpy.sum](https://docs.scipy.org/doc/numpy/reference/generated/numpy.sum.html). Check use of 'keepdims' parameter."
   ]
  },
  {
   "cell_type": "code",
   "execution_count": 35,
   "metadata": {
    "deletable": false,
    "nbgrader": {
     "cell_type": "code",
     "checksum": "e42402d4cea9e648e36d6fd2ac1f1d98",
     "grade": false,
     "grade_id": "test_case10_gradient_soln",
     "locked": false,
     "schema_version": 3,
     "solution": true
    }
   },
   "outputs": [],
   "source": [
    "def grad_fn(X,dZ):\n",
    "    '''\n",
    "    Function to calculate the gradients of weights (dw) and biases (db) w.r.t the objective function L.\n",
    "    \n",
    "    Inputs:\n",
    "        X: training data of dimensions (d, m)\n",
    "        dZ: gradient dL/dZ where L is the logistic loss and Z = w^T*X+b is the input to the sigmoid activation function\n",
    "            dZ is of dimensions (1, m)\n",
    "        \n",
    "    outputs:\n",
    "        dw: gradient dL/dw - gradient of the weight w.r.t. the logistic loss. It is of dimensions (d,1)\n",
    "        db: gradient dL/db - gradient of the bias w.r.t. the logistic loss. It is a scalar\n",
    "    '''\n",
    "    m = X.shape[1]\n",
    "    # your code here\n",
    "#     dw = (1/m) * X.dot(dZ.T)\n",
    "#     db = (1/m) * np.sum(dZ, axis = 1, keepdims = True)\n",
    "    dw = (1/m) * np.dot(X, dZ.T)\n",
    "    db = (1/m) * np.sum(dZ, axis = 1, keepdims = True)\n",
    "    \n",
    "    return dw,db"
   ]
  },
  {
   "cell_type": "code",
   "execution_count": 36,
   "metadata": {
    "deletable": false,
    "editable": false,
    "nbgrader": {
     "cell_type": "code",
     "checksum": "c32913d79f9f7d9b0346cce83affc8e9",
     "grade": true,
     "grade_id": "test_case10_gradient",
     "locked": true,
     "points": 5,
     "schema_version": 3,
     "solution": false
    }
   },
   "outputs": [],
   "source": [
    "# Contains hidden tests \n",
    "\n",
    "np.random.seed(1)\n",
    "d = 2\n",
    "m1 = 10\n",
    "X_t = np.random.randn(d,m1)\n",
    "Y_t = np.random.rand(1,m1)\n",
    "Y_t[Y_t>0.5] = 1\n",
    "Y_t[Y_t<=0.5] = 0"
   ]
  },
  {
   "cell_type": "code",
   "execution_count": 37,
   "metadata": {
    "scrolled": true
   },
   "outputs": [
    {
     "name": "stdout",
     "output_type": "stream",
     "text": [
      "[[ 1.62434536 -0.61175641 -0.52817175 -1.07296862  0.86540763 -2.3015387\n",
      "   1.74481176 -0.7612069   0.3190391  -0.24937038]\n",
      " [ 1.46210794 -2.06014071 -0.3224172  -0.38405435  1.13376944 -1.09989127\n",
      "  -0.17242821 -0.87785842  0.04221375  0.58281521]]\n"
     ]
    }
   ],
   "source": [
    "print(X_t)"
   ]
  },
  {
   "cell_type": "code",
   "execution_count": 38,
   "metadata": {},
   "outputs": [
    {
     "name": "stdout",
     "output_type": "stream",
     "text": [
      "[[1. 0. 1. 1. 0. 1. 1. 1. 0. 1.]]\n"
     ]
    }
   ],
   "source": [
    "print(Y_t)"
   ]
  },
  {
   "cell_type": "markdown",
   "metadata": {},
   "source": [
    "### Training the Model (10 Points)\n",
    "\n",
    "We will now implement the steps for gradient descent discussed earlier."
   ]
  },
  {
   "cell_type": "code",
   "execution_count": 39,
   "metadata": {
    "deletable": false,
    "nbgrader": {
     "cell_type": "code",
     "checksum": "83ab809038b51b750a5c903b619fc3c6",
     "grade": false,
     "grade_id": "test_case11_train_soln",
     "locked": false,
     "schema_version": 3,
     "solution": true
    }
   },
   "outputs": [],
   "source": [
    "def model_fit(w,b,X,Y,alpha,n_epochs,log=False):\n",
    "    '''\n",
    "    Function to fit a logistic model with the parameters w,b to the training data with labels X and Y.\n",
    "    \n",
    "    Inputs:\n",
    "        w: weight vector of dimensions (d, 1)\n",
    "        b: scalar bias value\n",
    "        X: training data of dimensions (d, m)\n",
    "        Y: training data labels of dimensions (1, m)\n",
    "        alpha: learning rate\n",
    "        n_epochs: number of epochs to train the model\n",
    "        \n",
    "    Outputs:\n",
    "        params: a dictionary to hold parameters w and b\n",
    "        losses: a list train loss at every epoch\n",
    "    '''\n",
    "    losses=[]\n",
    "    for epoch in range(n_epochs):\n",
    "        \n",
    "        # Implement the steps in the logistic regression using the functions defined earlier.\n",
    "        # For each iteration of the for loop\n",
    "            # Step 1: Calculate output Z = w.T*X + b\n",
    "            # Step 2: Apply sigmoid activation: A = sigmoid(Z)\n",
    "            # Step 3: Calculate loss = logistic_loss(.) between predicted values A and groundtruth labels Y\n",
    "            # Step 4: Estimate gradient dZ = A-Y\n",
    "            # Step 5: Estimate gradients dw and db using grad_fn(.).\n",
    "            # Step 6: Update parameters w and b using gradients dw, db and learning rate\n",
    "            #         w = w - alpha * dw\n",
    "            #         b = b - alpha * db\n",
    "\n",
    "        # your code here\n",
    "        Z = np.dot(w.T, X) + b\n",
    "        A = sigmoid(Z)\n",
    "        loss = logistic_loss(A,Y)\n",
    "        dZ = A - Y\n",
    "        dw,db = grad_fn(X,dZ)\n",
    "        w = w - alpha * dw\n",
    "        b = b - alpha * db\n",
    "        \n",
    "        if epoch%100 == 0:\n",
    "            losses.append(loss)\n",
    "            if log == True:\n",
    "                print(\"After %i iterations, Loss = %f\"%(epoch,loss))\n",
    "    params ={\"w\":w,\"b\":b}\n",
    "    \n",
    "    return params,losses    "
   ]
  },
  {
   "cell_type": "code",
   "execution_count": 40,
   "metadata": {
    "deletable": false,
    "editable": false,
    "nbgrader": {
     "cell_type": "code",
     "checksum": "4ab92e249d0a4f7111eef6667c671efc",
     "grade": true,
     "grade_id": "test_case11_train",
     "locked": true,
     "points": 10,
     "schema_version": 3,
     "solution": false
    }
   },
   "outputs": [],
   "source": [
    "# Contains hidden tests \n",
    "\n",
    "np.random.seed(1)\n",
    "d = 2\n",
    "m1 = 10\n",
    "X_t = np.random.randn(d,m1)\n",
    "Y_t = np.random.rand(1,m1)\n",
    "Y_t[Y_t>0.5] = 1\n",
    "Y_t[Y_t<=0.5] = 0"
   ]
  },
  {
   "cell_type": "code",
   "execution_count": 41,
   "metadata": {},
   "outputs": [
    {
     "name": "stdout",
     "output_type": "stream",
     "text": [
      "[[1. 0. 1. 1. 0. 1. 1. 1. 0. 1.]]\n",
      "[[ 0.01624345]\n",
      " [-0.00611756]] 0\n"
     ]
    }
   ],
   "source": [
    "print(Y_t)\n",
    "w,b = initialize(d, seed=1)\n",
    "print(w,b)"
   ]
  },
  {
   "cell_type": "markdown",
   "metadata": {
    "deletable": false,
    "editable": false,
    "nbgrader": {
     "cell_type": "markdown",
     "checksum": "2dca4716c7d14c983693bcb990897820",
     "grade": false,
     "grade_id": "cell-fade22528688402f",
     "locked": true,
     "schema_version": 3,
     "solution": false
    }
   },
   "source": [
    "### Model Prediction (10 Points)\n",
    "\n",
    "Once we have the optimal values of model parameters $(w,b)$, we can determine the accuracy of the model on the test data.\n",
    "<center> \n",
    "    \\begin{equation*}\n",
    "     Z = w^{T}X + b\\\\\n",
    "     A=\\sigma\\left(Z\\right)  \n",
    "    \\end{equation*}\n",
    "</center>"
   ]
  },
  {
   "cell_type": "code",
   "execution_count": 42,
   "metadata": {
    "deletable": false,
    "nbgrader": {
     "cell_type": "code",
     "checksum": "ef2c5c47a742668b6032827fe50673c4",
     "grade": false,
     "grade_id": "test_case12_predict_soln",
     "locked": false,
     "schema_version": 3,
     "solution": true
    }
   },
   "outputs": [],
   "source": [
    "def model_predict(params,X,Y=np. array([]),pred_threshold=0.5):\n",
    "    '''\n",
    "    Function to calculate category predictions on given data and returns the accuracy of the predictions.\n",
    "    Inputs:\n",
    "        params: a dictionary to hold parameters w and b\n",
    "        X: training data of dimensions (d, m)\n",
    "        Y: training data labels of dimensions (1, m). If not provided, the function merely makes predictions on X\n",
    "        \n",
    "    outputs:\n",
    "        Y_Pred: Predicted class labels for X. Has dimensions (1, m)\n",
    "        acc: accuracy of prediction over X if Y is provided else, 0 \n",
    "        loss: loss of prediction over X if Y is provided else, Inf  \n",
    "    '''\n",
    "    w = params['w']\n",
    "    b = params['b']\n",
    "    m = X.shape[1]\n",
    "    \n",
    "    # Calculate Z using X, w and b\n",
    "    # Calculate A using the sigmoid - A is the set of (1,m) probabilities\n",
    "    # Calculate the prediction labels Y_Pred of size (1,m) using A and pred_threshold \n",
    "    # When A>pred_threshold Y_Pred is 1 else 0\n",
    "    # your code here\n",
    "    Z = np.dot(w.T,X) + b\n",
    "    A = sigmoid(Z)\n",
    "    Y_Pred = np.zeros((1,m))\n",
    "\n",
    "    for i in range(A.shape[1]):\n",
    "        Y_Pred[0,i] = 1 if A[0,i] > pred_threshold else 0\n",
    "    \n",
    "    \n",
    "    acc = 0\n",
    "    loss = float('inf')\n",
    "    if Y.size!=0:\n",
    "        loss = logistic_loss(A,Y)\n",
    "        acc = np.mean(Y_Pred==Y)\n",
    "    return Y_Pred, acc, loss"
   ]
  },
  {
   "cell_type": "code",
   "execution_count": 43,
   "metadata": {
    "deletable": false,
    "editable": false,
    "nbgrader": {
     "cell_type": "code",
     "checksum": "1066cd4d71d723dc0c48b7560385b0b5",
     "grade": true,
     "grade_id": "test_case12_predict",
     "locked": true,
     "points": 10,
     "schema_version": 3,
     "solution": false
    }
   },
   "outputs": [],
   "source": [
    "# Contains hidden tests \n",
    "\n",
    "np.random.seed(1)\n",
    "d = 2\n",
    "m1 = 10\n",
    "\n",
    "# Test standard\n",
    "X_t = np.random.randn(d,m1)\n",
    "Y_t = np.random.rand(1,m1)\n",
    "Y_t[Y_t>0.5] = 1\n",
    "Y_t[Y_t<=0.5] = 0"
   ]
  },
  {
   "cell_type": "markdown",
   "metadata": {},
   "source": [
    "## 3. Putting it All Together (10 Points)\n",
    "\n",
    "We will train our logistic regression model using the data we have loaded and test our predictions on diabetes classification."
   ]
  },
  {
   "cell_type": "code",
   "execution_count": 44,
   "metadata": {
    "deletable": false,
    "nbgrader": {
     "cell_type": "code",
     "checksum": "189ec6bd0ac8a2bd2fbb34c9ef2f5b61",
     "grade": false,
     "grade_id": "test_case13_together_soln",
     "locked": false,
     "schema_version": 3,
     "solution": true,
     "task": false
    }
   },
   "outputs": [],
   "source": [
    "#We can use a decently large learning rate becasue the features have been normalized \n",
    "#When features are not normalized, larger learning rates may cause the learning to oscillate \n",
    "#and go out of bounds leading to 'nan' errors\n",
    "#Feel free to adjust the learning rate alpha and the n_epochs to vary the test accuracy\n",
    "#You should be able to get test accuracy > 70%\n",
    "#You can go up to 75% to 80% test accuracies as well\n",
    "\n",
    "alpha = 0.2\n",
    "n_epochs = 2000\n",
    "\n",
    "# Write code to initialize parameters w and b with initialize(.) (use train_X to get feature dimensions d)\n",
    "# Use model_fit(.) to estimate the updated 'params' of the logistic regression model and calculate how the 'losses' varies \n",
    "# Use variables 'params' and 'losses' to store the outputs of model_fit(.) \n",
    "# your code here\n",
    "\n",
    "w,b = initialize(train_X.shape[0])\n",
    "params, losses = model_fit(w,b,train_X,train_Y,alpha,n_epochs,log=False)"
   ]
  },
  {
   "cell_type": "code",
   "execution_count": 45,
   "metadata": {},
   "outputs": [
    {
     "ename": "KeyboardInterrupt",
     "evalue": "",
     "output_type": "error",
     "traceback": [
      "\u001b[1;31m---------------------------------------------------------------------------\u001b[0m",
      "\u001b[1;31mKeyboardInterrupt\u001b[0m                         Traceback (most recent call last)",
      "\u001b[1;32m<ipython-input-45-76f9879f0a08>\u001b[0m in \u001b[0;36m<module>\u001b[1;34m\u001b[0m\n\u001b[0;32m     10\u001b[0m \u001b[1;31m#         for epochs in np.arange(1000,3000,100):\u001b[0m\u001b[1;33m\u001b[0m\u001b[1;33m\u001b[0m\u001b[1;33m\u001b[0m\u001b[0m\n\u001b[0;32m     11\u001b[0m         \u001b[0mw\u001b[0m\u001b[1;33m,\u001b[0m\u001b[0mb\u001b[0m \u001b[1;33m=\u001b[0m \u001b[0minitialize\u001b[0m\u001b[1;33m(\u001b[0m\u001b[0mtrain_X\u001b[0m\u001b[1;33m.\u001b[0m\u001b[0mshape\u001b[0m\u001b[1;33m[\u001b[0m\u001b[1;36m0\u001b[0m\u001b[1;33m]\u001b[0m\u001b[1;33m)\u001b[0m\u001b[1;33m\u001b[0m\u001b[1;33m\u001b[0m\u001b[0m\n\u001b[1;32m---> 12\u001b[1;33m         \u001b[0mparams\u001b[0m\u001b[1;33m,\u001b[0m \u001b[0mlosses\u001b[0m \u001b[1;33m=\u001b[0m \u001b[0mmodel_fit\u001b[0m\u001b[1;33m(\u001b[0m\u001b[0mw\u001b[0m\u001b[1;33m,\u001b[0m\u001b[0mb\u001b[0m\u001b[1;33m,\u001b[0m\u001b[0mtrain_X\u001b[0m\u001b[1;33m,\u001b[0m\u001b[0mtrain_Y\u001b[0m\u001b[1;33m,\u001b[0m\u001b[0malpha\u001b[0m\u001b[1;33m,\u001b[0m\u001b[0mn_epochs\u001b[0m\u001b[1;33m,\u001b[0m\u001b[0mlog\u001b[0m\u001b[1;33m=\u001b[0m\u001b[1;32mFalse\u001b[0m\u001b[1;33m)\u001b[0m\u001b[1;33m\u001b[0m\u001b[1;33m\u001b[0m\u001b[0m\n\u001b[0m\u001b[0;32m     13\u001b[0m         \u001b[0mY_Pred_tr\u001b[0m\u001b[1;33m,\u001b[0m \u001b[0macc_tr\u001b[0m\u001b[1;33m,\u001b[0m \u001b[0mloss_tr\u001b[0m \u001b[1;33m=\u001b[0m \u001b[0mmodel_predict\u001b[0m\u001b[1;33m(\u001b[0m\u001b[0mparams\u001b[0m\u001b[1;33m,\u001b[0m\u001b[0mtrain_X\u001b[0m\u001b[1;33m,\u001b[0m\u001b[0mtrain_Y\u001b[0m\u001b[1;33m)\u001b[0m\u001b[1;33m\u001b[0m\u001b[1;33m\u001b[0m\u001b[0m\n\u001b[0;32m     14\u001b[0m         \u001b[0mY_Pred_ts\u001b[0m\u001b[1;33m,\u001b[0m \u001b[0macc_ts\u001b[0m\u001b[1;33m,\u001b[0m \u001b[0mloss_ts\u001b[0m \u001b[1;33m=\u001b[0m \u001b[0mmodel_predict\u001b[0m\u001b[1;33m(\u001b[0m\u001b[0mparams\u001b[0m\u001b[1;33m,\u001b[0m\u001b[0mtest_X\u001b[0m\u001b[1;33m,\u001b[0m\u001b[0mtest_Y\u001b[0m\u001b[1;33m)\u001b[0m\u001b[1;33m\u001b[0m\u001b[1;33m\u001b[0m\u001b[0m\n",
      "\u001b[1;32m<ipython-input-39-81d9dc723470>\u001b[0m in \u001b[0;36mmodel_fit\u001b[1;34m(w, b, X, Y, alpha, n_epochs, log)\u001b[0m\n\u001b[0;32m     30\u001b[0m \u001b[1;33m\u001b[0m\u001b[0m\n\u001b[0;32m     31\u001b[0m         \u001b[1;31m# your code here\u001b[0m\u001b[1;33m\u001b[0m\u001b[1;33m\u001b[0m\u001b[1;33m\u001b[0m\u001b[0m\n\u001b[1;32m---> 32\u001b[1;33m         \u001b[0mZ\u001b[0m \u001b[1;33m=\u001b[0m \u001b[0mnp\u001b[0m\u001b[1;33m.\u001b[0m\u001b[0mdot\u001b[0m\u001b[1;33m(\u001b[0m\u001b[0mw\u001b[0m\u001b[1;33m.\u001b[0m\u001b[0mT\u001b[0m\u001b[1;33m,\u001b[0m \u001b[0mX\u001b[0m\u001b[1;33m)\u001b[0m \u001b[1;33m+\u001b[0m \u001b[0mb\u001b[0m\u001b[1;33m\u001b[0m\u001b[1;33m\u001b[0m\u001b[0m\n\u001b[0m\u001b[0;32m     33\u001b[0m         \u001b[0mA\u001b[0m \u001b[1;33m=\u001b[0m \u001b[0msigmoid\u001b[0m\u001b[1;33m(\u001b[0m\u001b[0mZ\u001b[0m\u001b[1;33m)\u001b[0m\u001b[1;33m\u001b[0m\u001b[1;33m\u001b[0m\u001b[0m\n\u001b[0;32m     34\u001b[0m         \u001b[0mloss\u001b[0m \u001b[1;33m=\u001b[0m \u001b[0mlogistic_loss\u001b[0m\u001b[1;33m(\u001b[0m\u001b[0mA\u001b[0m\u001b[1;33m,\u001b[0m\u001b[0mY\u001b[0m\u001b[1;33m)\u001b[0m\u001b[1;33m\u001b[0m\u001b[1;33m\u001b[0m\u001b[0m\n",
      "\u001b[1;32m<__array_function__ internals>\u001b[0m in \u001b[0;36mdot\u001b[1;34m(*args, **kwargs)\u001b[0m\n",
      "\u001b[1;31mKeyboardInterrupt\u001b[0m: "
     ]
    }
   ],
   "source": [
    "import csv\n",
    "\n",
    "with open('result.csv','w', newline='') as file:\n",
    "#         with open('result.csv','w') as file:\n",
    "    fieldnames = ['alpha', 'epochs','acc_ts']\n",
    "    writer =csv.DictWriter(file, fieldnames=fieldnames)\n",
    "    writer.writeheader()\n",
    "    epochs = 1000\n",
    "    for alpha in np.arange(0.0001, 1, 0.0001):\n",
    "#         for epochs in np.arange(1000,3000,100):\n",
    "        w,b = initialize(train_X.shape[0])\n",
    "        params, losses = model_fit(w,b,train_X,train_Y,alpha,n_epochs,log=False)\n",
    "        Y_Pred_tr, acc_tr, loss_tr = model_predict(params,train_X,train_Y)\n",
    "        Y_Pred_ts, acc_ts, loss_ts = model_predict(params,test_X,test_Y)\n",
    "\n",
    "        writer.writerow({'alpha': alpha,'epochs': epochs, 'acc_tr':acc_tr,'acc_ts':acc_ts })\n"
   ]
  },
  {
   "cell_type": "code",
   "execution_count": null,
   "metadata": {
    "deletable": false,
    "editable": false,
    "nbgrader": {
     "cell_type": "code",
     "checksum": "a1f3f45b1c9b6c225b3df9c8b970d743",
     "grade": false,
     "grade_id": "cell-0e303eb28251a90e",
     "locked": true,
     "schema_version": 3,
     "solution": false,
     "task": false
    }
   },
   "outputs": [],
   "source": [
    "Y_Pred_tr, acc_tr, loss_tr = model_predict(params,train_X,train_Y)\n",
    "Y_Pred_ts, acc_ts, loss_ts = model_predict(params,test_X,test_Y)\n",
    "print(\"Train Accuracy of the model:\",acc_tr)\n",
    "print(\"Test Accuracy of the model:\",acc_ts)\n",
    "import matplotlib.pyplot as plt\n",
    "%matplotlib inline\n",
    "plt.plot(losses)\n",
    "plt.xlabel('Iterations(x100)')\n",
    "plt.ylabel('Train loss');"
   ]
  },
  {
   "cell_type": "code",
   "execution_count": null,
   "metadata": {
    "deletable": false,
    "editable": false,
    "nbgrader": {
     "cell_type": "code",
     "checksum": "b7b99f61cccf2867d459f50944c31aaf",
     "grade": true,
     "grade_id": "test_case13_together",
     "locked": true,
     "points": 10,
     "schema_version": 3,
     "solution": false,
     "task": false
    }
   },
   "outputs": [],
   "source": [
    "# Contains hidden tests testing accuracy of test to be greater than 0.7 with the above parameter settings"
   ]
  },
  {
   "cell_type": "markdown",
   "metadata": {
    "deletable": false,
    "editable": false,
    "nbgrader": {
     "cell_type": "markdown",
     "checksum": "4ba829997ab7ee88ecb5c6c3c6e517ab",
     "grade": false,
     "grade_id": "cell-48c08bce648d4c53",
     "locked": true,
     "schema_version": 3,
     "solution": false
    }
   },
   "source": [
    "Congratulations on completing this week's assignment - building a single leayer neural network for binary classification. In the following weeks, we will learn to build and train a multilayer neural network for multi category classification."
   ]
  }
 ],
 "metadata": {
  "kernelspec": {
   "display_name": "Python 3",
   "language": "python",
   "name": "python3"
  },
  "language_info": {
   "codemirror_mode": {
    "name": "ipython",
    "version": 3
   },
   "file_extension": ".py",
   "mimetype": "text/x-python",
   "name": "python",
   "nbconvert_exporter": "python",
   "pygments_lexer": "ipython3",
   "version": "3.8.5"
  }
 },
 "nbformat": 4,
 "nbformat_minor": 2
}
